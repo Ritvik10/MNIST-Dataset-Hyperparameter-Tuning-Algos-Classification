{
 "cells": [
  {
   "cell_type": "code",
   "execution_count": 1,
   "id": "5afd0cc5",
   "metadata": {
    "_cell_guid": "b1076dfc-b9ad-4769-8c92-a6c4dae69d19",
    "_uuid": "8f2839f25d086af736a60e9eeb907d3b93b6e0e5",
    "execution": {
     "iopub.execute_input": "2023-10-30T18:04:52.474731Z",
     "iopub.status.busy": "2023-10-30T18:04:52.473974Z",
     "iopub.status.idle": "2023-10-30T18:04:52.900644Z",
     "shell.execute_reply": "2023-10-30T18:04:52.899762Z"
    },
    "papermill": {
     "duration": 0.443848,
     "end_time": "2023-10-30T18:04:52.902933",
     "exception": false,
     "start_time": "2023-10-30T18:04:52.459085",
     "status": "completed"
    },
    "tags": []
   },
   "outputs": [
    {
     "name": "stdout",
     "output_type": "stream",
     "text": [
      "/kaggle/input/mnist-dataset/train-images.idx3-ubyte\n",
      "/kaggle/input/mnist-dataset/t10k-labels.idx1-ubyte\n",
      "/kaggle/input/mnist-dataset/t10k-images.idx3-ubyte\n",
      "/kaggle/input/mnist-dataset/train-labels.idx1-ubyte\n",
      "/kaggle/input/mnist-dataset/t10k-labels-idx1-ubyte/t10k-labels-idx1-ubyte\n",
      "/kaggle/input/mnist-dataset/t10k-images-idx3-ubyte/t10k-images-idx3-ubyte\n",
      "/kaggle/input/mnist-dataset/train-labels-idx1-ubyte/train-labels-idx1-ubyte\n",
      "/kaggle/input/mnist-dataset/train-images-idx3-ubyte/train-images-idx3-ubyte\n"
     ]
    }
   ],
   "source": [
    "# This Python 3 environment comes with many helpful analytics libraries installed\n",
    "# It is defined by the kaggle/python Docker image: https://github.com/kaggle/docker-python\n",
    "# For example, here's several helpful packages to load\n",
    "\n",
    "import numpy as np # linear algebra\n",
    "import pandas as pd # data processing, CSV file I/O (e.g. pd.read_csv)\n",
    "\n",
    "# Input data files are available in the read-only \"../input/\" directory\n",
    "# For example, running this (by clicking run or pressing Shift+Enter) will list all files under the input directory\n",
    "\n",
    "import os\n",
    "for dirname, _, filenames in os.walk('/kaggle/input'):\n",
    "    for filename in filenames:\n",
    "        print(os.path.join(dirname, filename))\n",
    "\n",
    "# You can write up to 20GB to the current directory (/kaggle/working/) that gets preserved as output when you create a version using \"Save & Run All\" \n",
    "# You can also write temporary files to /kaggle/temp/, but they won't be saved outside of the current session"
   ]
  },
  {
   "cell_type": "markdown",
   "id": "a2c07398",
   "metadata": {
    "papermill": {
     "duration": 0.010175,
     "end_time": "2023-10-30T18:04:52.923944",
     "exception": false,
     "start_time": "2023-10-30T18:04:52.913769",
     "status": "completed"
    },
    "tags": []
   },
   "source": [
    "# **Sample code for classification problems** #"
   ]
  },
  {
   "cell_type": "markdown",
   "id": "5ccdb594",
   "metadata": {
    "papermill": {
     "duration": 0.010519,
     "end_time": "2023-10-30T18:04:52.944995",
     "exception": false,
     "start_time": "2023-10-30T18:04:52.934476",
     "status": "completed"
    },
    "tags": []
   },
   "source": [
    "**Dataset used:**\n",
    "  MNIST from sklearn"
   ]
  },
  {
   "cell_type": "markdown",
   "id": "a57219a3",
   "metadata": {
    "papermill": {
     "duration": 0.009938,
     "end_time": "2023-10-30T18:04:52.965334",
     "exception": false,
     "start_time": "2023-10-30T18:04:52.955396",
     "status": "completed"
    },
    "tags": []
   },
   "source": [
    "**Machine learning algorithms used:**\n",
    "\n",
    "k-nearest neighbor (KNN), artificial neural network (ANN)"
   ]
  },
  {
   "cell_type": "code",
   "execution_count": 2,
   "id": "93ec251f",
   "metadata": {
    "execution": {
     "iopub.execute_input": "2023-10-30T18:04:52.988289Z",
     "iopub.status.busy": "2023-10-30T18:04:52.987200Z",
     "iopub.status.idle": "2023-10-30T18:04:55.238073Z",
     "shell.execute_reply": "2023-10-30T18:04:55.237151Z"
    },
    "papermill": {
     "duration": 2.265132,
     "end_time": "2023-10-30T18:04:55.240803",
     "exception": false,
     "start_time": "2023-10-30T18:04:52.975671",
     "status": "completed"
    },
    "tags": []
   },
   "outputs": [],
   "source": [
    "import numpy as np\n",
    "import pandas as pd\n",
    "import seaborn as sns\n",
    "import matplotlib.pyplot as plt\n",
    "from sklearn.model_selection import train_test_split,cross_val_score\n",
    "from sklearn.ensemble import RandomForestClassifier,RandomForestRegressor\n",
    "from sklearn.metrics import classification_report,confusion_matrix,accuracy_score\n",
    "from sklearn.neighbors import KNeighborsClassifier,KNeighborsRegressor\n",
    "from sklearn.svm import SVC,SVR\n",
    "from sklearn import datasets\n",
    "import scipy.stats as stats"
   ]
  },
  {
   "cell_type": "markdown",
   "id": "2708c97f",
   "metadata": {
    "papermill": {
     "duration": 0.010335,
     "end_time": "2023-10-30T18:04:55.261514",
     "exception": false,
     "start_time": "2023-10-30T18:04:55.251179",
     "status": "completed"
    },
    "tags": []
   },
   "source": [
    "# **Load MNIST dataset**#\n",
    "\n",
    "The MNIST database (Modified National Institute of Standards and Technology database) is a large database of handwritten digits that is commonly used for training various image processing systems. The MNIST database has a training set of 60,000 examples, and a test set of 10,000 examples. It is a subset of a larger set available from NIST. The digits have been size-normalized and centered in a fixed-size image.\n",
    "\n"
   ]
  },
  {
   "cell_type": "code",
   "execution_count": 3,
   "id": "17547deb",
   "metadata": {
    "execution": {
     "iopub.execute_input": "2023-10-30T18:04:55.283753Z",
     "iopub.status.busy": "2023-10-30T18:04:55.283322Z",
     "iopub.status.idle": "2023-10-30T18:04:55.311561Z",
     "shell.execute_reply": "2023-10-30T18:04:55.310718Z"
    },
    "papermill": {
     "duration": 0.042598,
     "end_time": "2023-10-30T18:04:55.314007",
     "exception": false,
     "start_time": "2023-10-30T18:04:55.271409",
     "status": "completed"
    },
    "tags": []
   },
   "outputs": [],
   "source": [
    "d = datasets.load_digits()\n",
    "X = d.data\n",
    "y = d.target"
   ]
  },
  {
   "cell_type": "code",
   "execution_count": 4,
   "id": "8ec9aaf9",
   "metadata": {
    "execution": {
     "iopub.execute_input": "2023-10-30T18:04:55.338370Z",
     "iopub.status.busy": "2023-10-30T18:04:55.337941Z",
     "iopub.status.idle": "2023-10-30T18:04:55.352293Z",
     "shell.execute_reply": "2023-10-30T18:04:55.351451Z"
    },
    "papermill": {
     "duration": 0.028757,
     "end_time": "2023-10-30T18:04:55.354281",
     "exception": false,
     "start_time": "2023-10-30T18:04:55.325524",
     "status": "completed"
    },
    "tags": []
   },
   "outputs": [
    {
     "data": {
      "text/plain": [
       "{'data': array([[ 0.,  0.,  5., ...,  0.,  0.,  0.],\n",
       "        [ 0.,  0.,  0., ..., 10.,  0.,  0.],\n",
       "        [ 0.,  0.,  0., ..., 16.,  9.,  0.],\n",
       "        ...,\n",
       "        [ 0.,  0.,  1., ...,  6.,  0.,  0.],\n",
       "        [ 0.,  0.,  2., ..., 12.,  0.,  0.],\n",
       "        [ 0.,  0., 10., ..., 12.,  1.,  0.]]),\n",
       " 'target': array([0, 1, 2, ..., 8, 9, 8]),\n",
       " 'frame': None,\n",
       " 'feature_names': ['pixel_0_0',\n",
       "  'pixel_0_1',\n",
       "  'pixel_0_2',\n",
       "  'pixel_0_3',\n",
       "  'pixel_0_4',\n",
       "  'pixel_0_5',\n",
       "  'pixel_0_6',\n",
       "  'pixel_0_7',\n",
       "  'pixel_1_0',\n",
       "  'pixel_1_1',\n",
       "  'pixel_1_2',\n",
       "  'pixel_1_3',\n",
       "  'pixel_1_4',\n",
       "  'pixel_1_5',\n",
       "  'pixel_1_6',\n",
       "  'pixel_1_7',\n",
       "  'pixel_2_0',\n",
       "  'pixel_2_1',\n",
       "  'pixel_2_2',\n",
       "  'pixel_2_3',\n",
       "  'pixel_2_4',\n",
       "  'pixel_2_5',\n",
       "  'pixel_2_6',\n",
       "  'pixel_2_7',\n",
       "  'pixel_3_0',\n",
       "  'pixel_3_1',\n",
       "  'pixel_3_2',\n",
       "  'pixel_3_3',\n",
       "  'pixel_3_4',\n",
       "  'pixel_3_5',\n",
       "  'pixel_3_6',\n",
       "  'pixel_3_7',\n",
       "  'pixel_4_0',\n",
       "  'pixel_4_1',\n",
       "  'pixel_4_2',\n",
       "  'pixel_4_3',\n",
       "  'pixel_4_4',\n",
       "  'pixel_4_5',\n",
       "  'pixel_4_6',\n",
       "  'pixel_4_7',\n",
       "  'pixel_5_0',\n",
       "  'pixel_5_1',\n",
       "  'pixel_5_2',\n",
       "  'pixel_5_3',\n",
       "  'pixel_5_4',\n",
       "  'pixel_5_5',\n",
       "  'pixel_5_6',\n",
       "  'pixel_5_7',\n",
       "  'pixel_6_0',\n",
       "  'pixel_6_1',\n",
       "  'pixel_6_2',\n",
       "  'pixel_6_3',\n",
       "  'pixel_6_4',\n",
       "  'pixel_6_5',\n",
       "  'pixel_6_6',\n",
       "  'pixel_6_7',\n",
       "  'pixel_7_0',\n",
       "  'pixel_7_1',\n",
       "  'pixel_7_2',\n",
       "  'pixel_7_3',\n",
       "  'pixel_7_4',\n",
       "  'pixel_7_5',\n",
       "  'pixel_7_6',\n",
       "  'pixel_7_7'],\n",
       " 'target_names': array([0, 1, 2, 3, 4, 5, 6, 7, 8, 9]),\n",
       " 'images': array([[[ 0.,  0.,  5., ...,  1.,  0.,  0.],\n",
       "         [ 0.,  0., 13., ..., 15.,  5.,  0.],\n",
       "         [ 0.,  3., 15., ..., 11.,  8.,  0.],\n",
       "         ...,\n",
       "         [ 0.,  4., 11., ..., 12.,  7.,  0.],\n",
       "         [ 0.,  2., 14., ..., 12.,  0.,  0.],\n",
       "         [ 0.,  0.,  6., ...,  0.,  0.,  0.]],\n",
       " \n",
       "        [[ 0.,  0.,  0., ...,  5.,  0.,  0.],\n",
       "         [ 0.,  0.,  0., ...,  9.,  0.,  0.],\n",
       "         [ 0.,  0.,  3., ...,  6.,  0.,  0.],\n",
       "         ...,\n",
       "         [ 0.,  0.,  1., ...,  6.,  0.,  0.],\n",
       "         [ 0.,  0.,  1., ...,  6.,  0.,  0.],\n",
       "         [ 0.,  0.,  0., ..., 10.,  0.,  0.]],\n",
       " \n",
       "        [[ 0.,  0.,  0., ..., 12.,  0.,  0.],\n",
       "         [ 0.,  0.,  3., ..., 14.,  0.,  0.],\n",
       "         [ 0.,  0.,  8., ..., 16.,  0.,  0.],\n",
       "         ...,\n",
       "         [ 0.,  9., 16., ...,  0.,  0.,  0.],\n",
       "         [ 0.,  3., 13., ..., 11.,  5.,  0.],\n",
       "         [ 0.,  0.,  0., ..., 16.,  9.,  0.]],\n",
       " \n",
       "        ...,\n",
       " \n",
       "        [[ 0.,  0.,  1., ...,  1.,  0.,  0.],\n",
       "         [ 0.,  0., 13., ...,  2.,  1.,  0.],\n",
       "         [ 0.,  0., 16., ..., 16.,  5.,  0.],\n",
       "         ...,\n",
       "         [ 0.,  0., 16., ..., 15.,  0.,  0.],\n",
       "         [ 0.,  0., 15., ..., 16.,  0.,  0.],\n",
       "         [ 0.,  0.,  2., ...,  6.,  0.,  0.]],\n",
       " \n",
       "        [[ 0.,  0.,  2., ...,  0.,  0.,  0.],\n",
       "         [ 0.,  0., 14., ..., 15.,  1.,  0.],\n",
       "         [ 0.,  4., 16., ..., 16.,  7.,  0.],\n",
       "         ...,\n",
       "         [ 0.,  0.,  0., ..., 16.,  2.,  0.],\n",
       "         [ 0.,  0.,  4., ..., 16.,  2.,  0.],\n",
       "         [ 0.,  0.,  5., ..., 12.,  0.,  0.]],\n",
       " \n",
       "        [[ 0.,  0., 10., ...,  1.,  0.,  0.],\n",
       "         [ 0.,  2., 16., ...,  1.,  0.,  0.],\n",
       "         [ 0.,  0., 15., ..., 15.,  0.,  0.],\n",
       "         ...,\n",
       "         [ 0.,  4., 16., ..., 16.,  6.,  0.],\n",
       "         [ 0.,  8., 16., ..., 16.,  8.,  0.],\n",
       "         [ 0.,  1.,  8., ..., 12.,  1.,  0.]]]),\n",
       " 'DESCR': \".. _digits_dataset:\\n\\nOptical recognition of handwritten digits dataset\\n--------------------------------------------------\\n\\n**Data Set Characteristics:**\\n\\n    :Number of Instances: 1797\\n    :Number of Attributes: 64\\n    :Attribute Information: 8x8 image of integer pixels in the range 0..16.\\n    :Missing Attribute Values: None\\n    :Creator: E. Alpaydin (alpaydin '@' boun.edu.tr)\\n    :Date: July; 1998\\n\\nThis is a copy of the test set of the UCI ML hand-written digits datasets\\nhttps://archive.ics.uci.edu/ml/datasets/Optical+Recognition+of+Handwritten+Digits\\n\\nThe data set contains images of hand-written digits: 10 classes where\\neach class refers to a digit.\\n\\nPreprocessing programs made available by NIST were used to extract\\nnormalized bitmaps of handwritten digits from a preprinted form. From a\\ntotal of 43 people, 30 contributed to the training set and different 13\\nto the test set. 32x32 bitmaps are divided into nonoverlapping blocks of\\n4x4 and the number of on pixels are counted in each block. This generates\\nan input matrix of 8x8 where each element is an integer in the range\\n0..16. This reduces dimensionality and gives invariance to small\\ndistortions.\\n\\nFor info on NIST preprocessing routines, see M. D. Garris, J. L. Blue, G.\\nT. Candela, D. L. Dimmick, J. Geist, P. J. Grother, S. A. Janet, and C.\\nL. Wilson, NIST Form-Based Handprint Recognition System, NISTIR 5469,\\n1994.\\n\\n.. topic:: References\\n\\n  - C. Kaynak (1995) Methods of Combining Multiple Classifiers and Their\\n    Applications to Handwritten Digit Recognition, MSc Thesis, Institute of\\n    Graduate Studies in Science and Engineering, Bogazici University.\\n  - E. Alpaydin, C. Kaynak (1998) Cascading Classifiers, Kybernetika.\\n  - Ken Tang and Ponnuthurai N. Suganthan and Xi Yao and A. Kai Qin.\\n    Linear dimensionalityreduction using relevance weighted LDA. School of\\n    Electrical and Electronic Engineering Nanyang Technological University.\\n    2005.\\n  - Claudio Gentile. A New Approximate Maximal Margin Classification\\n    Algorithm. NIPS. 2000.\\n\"}"
      ]
     },
     "execution_count": 4,
     "metadata": {},
     "output_type": "execute_result"
    }
   ],
   "source": [
    "d"
   ]
  },
  {
   "cell_type": "code",
   "execution_count": 5,
   "id": "cc62da7d",
   "metadata": {
    "execution": {
     "iopub.execute_input": "2023-10-30T18:04:55.379473Z",
     "iopub.status.busy": "2023-10-30T18:04:55.378481Z",
     "iopub.status.idle": "2023-10-30T18:04:55.756691Z",
     "shell.execute_reply": "2023-10-30T18:04:55.755447Z"
    },
    "papermill": {
     "duration": 0.393507,
     "end_time": "2023-10-30T18:04:55.758992",
     "exception": false,
     "start_time": "2023-10-30T18:04:55.365485",
     "status": "completed"
    },
    "tags": []
   },
   "outputs": [
    {
     "data": {
      "image/png": "[encoded data removed]",
      "text/plain": [
       "<Figure size 1000x300 with 4 Axes>"
      ]
     },
     "metadata": {},
     "output_type": "display_data"
    }
   ],
   "source": [
    "_, axes = plt.subplots(nrows=1, ncols=4, figsize=(10, 3))\n",
    "for ax, image, label in zip(axes, d.images, d.target):\n",
    "    ax.set_axis_off()\n",
    "    ax.imshow(image, cmap=plt.cm.gray_r, interpolation=\"nearest\")\n",
    "    ax.set_title(\"Training: %i\" % label)\n",
    "plt.show()"
   ]
  },
  {
   "cell_type": "markdown",
   "id": "0c4bddd7",
   "metadata": {
    "papermill": {
     "duration": 0.010623,
     "end_time": "2023-10-30T18:04:55.780893",
     "exception": false,
     "start_time": "2023-10-30T18:04:55.770270",
     "status": "completed"
    },
    "tags": []
   },
   "source": [
    "# **Baseline Machine Learning Models: Classifiers with Default Hyperparameters**"
   ]
  },
  {
   "cell_type": "markdown",
   "id": "1e68237e",
   "metadata": {
    "papermill": {
     "duration": 0.010663,
     "end_time": "2023-10-30T18:04:55.802275",
     "exception": false,
     "start_time": "2023-10-30T18:04:55.791612",
     "status": "completed"
    },
    "tags": []
   },
   "source": [
    "**Using 3-Fold Cross-Validation**"
   ]
  },
  {
   "cell_type": "code",
   "execution_count": 6,
   "id": "997af0cc",
   "metadata": {
    "execution": {
     "iopub.execute_input": "2023-10-30T18:04:55.826939Z",
     "iopub.status.busy": "2023-10-30T18:04:55.826520Z",
     "iopub.status.idle": "2023-10-30T18:04:57.534630Z",
     "shell.execute_reply": "2023-10-30T18:04:57.533528Z"
    },
    "papermill": {
     "duration": 1.724566,
     "end_time": "2023-10-30T18:04:57.537976",
     "exception": false,
     "start_time": "2023-10-30T18:04:55.813410",
     "status": "completed"
    },
    "tags": []
   },
   "outputs": [
    {
     "name": "stdout",
     "output_type": "stream",
     "text": [
      "Accuracy:0.9365609348914857\n"
     ]
    }
   ],
   "source": [
    "#Random Forest\n",
    "clf = RandomForestClassifier()\n",
    "clf.fit(X,y)\n",
    "scores = cross_val_score(clf, X, y, cv=3,scoring='accuracy')\n",
    "print(\"Accuracy:\"+ str(scores.mean()))"
   ]
  },
  {
   "cell_type": "code",
   "execution_count": 7,
   "id": "b00f1eb5",
   "metadata": {
    "execution": {
     "iopub.execute_input": "2023-10-30T18:04:57.562431Z",
     "iopub.status.busy": "2023-10-30T18:04:57.562011Z",
     "iopub.status.idle": "2023-10-30T18:04:57.846883Z",
     "shell.execute_reply": "2023-10-30T18:04:57.845684Z"
    },
    "papermill": {
     "duration": 0.301372,
     "end_time": "2023-10-30T18:04:57.851019",
     "exception": false,
     "start_time": "2023-10-30T18:04:57.549647",
     "status": "completed"
    },
    "tags": []
   },
   "outputs": [
    {
     "name": "stdout",
     "output_type": "stream",
     "text": [
      "Accuracy:0.9699499165275459\n"
     ]
    }
   ],
   "source": [
    "#SVM\n",
    "clf = SVC()\n",
    "clf.fit(X,y)\n",
    "scores = cross_val_score(clf, X, y, cv=3,scoring='accuracy')\n",
    "print(\"Accuracy:\"+ str(scores.mean()))"
   ]
  },
  {
   "cell_type": "code",
   "execution_count": 8,
   "id": "dfa6dc01",
   "metadata": {
    "execution": {
     "iopub.execute_input": "2023-10-30T18:04:57.881763Z",
     "iopub.status.busy": "2023-10-30T18:04:57.881355Z",
     "iopub.status.idle": "2023-10-30T18:04:58.212405Z",
     "shell.execute_reply": "2023-10-30T18:04:58.211149Z"
    },
    "papermill": {
     "duration": 0.347792,
     "end_time": "2023-10-30T18:04:58.214834",
     "exception": false,
     "start_time": "2023-10-30T18:04:57.867042",
     "status": "completed"
    },
    "tags": []
   },
   "outputs": [
    {
     "name": "stdout",
     "output_type": "stream",
     "text": [
      "Accuracy:0.9627156371730662\n"
     ]
    }
   ],
   "source": [
    "#KNN\n",
    "clf = KNeighborsClassifier()\n",
    "clf.fit(X,y)\n",
    "scores = cross_val_score(clf, X, y, cv=3,scoring='accuracy')\n",
    "print(\"Accuracy:\"+ str(scores.mean()))"
   ]
  },
  {
   "cell_type": "code",
   "execution_count": 9,
   "id": "27b7e4f4",
   "metadata": {
    "execution": {
     "iopub.execute_input": "2023-10-30T18:04:58.239016Z",
     "iopub.status.busy": "2023-10-30T18:04:58.238623Z",
     "iopub.status.idle": "2023-10-30T18:05:06.624909Z",
     "shell.execute_reply": "2023-10-30T18:05:06.623759Z"
    },
    "papermill": {
     "duration": 8.401797,
     "end_time": "2023-10-30T18:05:06.627665",
     "exception": false,
     "start_time": "2023-10-30T18:04:58.225868",
     "status": "completed"
    },
    "tags": []
   },
   "outputs": [],
   "source": [
    "#ANN\n",
    "from keras.models import Sequential, Model\n",
    "from keras.layers import Dense, Input\n",
    "from sklearn.model_selection import GridSearchCV\n",
    "from keras.wrappers.scikit_learn import KerasClassifier\n",
    "from keras.callbacks import EarlyStopping\n",
    "def ANN(optimizer = 'sgd',neurons=32,batch_size=32,epochs=20,activation='relu',patience=3,loss='categorical_crossentropy'):\n",
    "    model = Sequential()\n",
    "    model.add(Dense(neurons, input_shape=(X.shape[1],), activation=activation))\n",
    "    model.add(Dense(neurons, activation=activation))\n",
    "    model.add(Dense(10,activation='softmax'))  # 10 is the number of classes in the dataset, you can change it based on your dataset\n",
    "    model.compile(optimizer = optimizer, loss=loss)\n",
    "    early_stopping = EarlyStopping(monitor=\"loss\", patience = patience)# early stop patience\n",
    "    history = model.fit(X, pd.get_dummies(y).values,\n",
    "              batch_size=batch_size,\n",
    "              epochs=epochs,\n",
    "              callbacks = [early_stopping],\n",
    "              verbose=0) #verbose set to 1 will show the training process\n",
    "    return model"
   ]
  },
  {
   "cell_type": "code",
   "execution_count": 10,
   "id": "5d93422f",
   "metadata": {
    "execution": {
     "iopub.execute_input": "2023-10-30T18:05:06.651679Z",
     "iopub.status.busy": "2023-10-30T18:05:06.650947Z",
     "iopub.status.idle": "2023-10-30T18:05:14.291613Z",
     "shell.execute_reply": "2023-10-30T18:05:14.290774Z"
    },
    "papermill": {
     "duration": 7.655821,
     "end_time": "2023-10-30T18:05:14.294282",
     "exception": false,
     "start_time": "2023-10-30T18:05:06.638461",
     "status": "completed"
    },
    "tags": []
   },
   "outputs": [
    {
     "name": "stderr",
     "output_type": "stream",
     "text": [
      "/tmp/ipykernel_20/2162434965.py:1: DeprecationWarning: KerasClassifier is deprecated, use Sci-Keras (https://github.com/adriangb/scikeras) instead. See https://www.adriangb.com/scikeras/stable/migration.html for help migrating.\n",
      "  clf = KerasClassifier(build_fn=ANN, verbose=0)\n"
     ]
    },
    {
     "name": "stdout",
     "output_type": "stream",
     "text": [
      "19/19 [==============================] - 0s 1ms/step\n",
      "19/19 [==============================] - 0s 1ms/step\n",
      "19/19 [==============================] - 0s 1ms/step\n",
      "Accuracy:0.989983305509182\n"
     ]
    }
   ],
   "source": [
    "clf = KerasClassifier(build_fn=ANN, verbose=0)\n",
    "scores = cross_val_score(clf, X, y, cv=3,scoring='accuracy')\n",
    "print(\"Accuracy:\"+ str(scores.mean()))"
   ]
  },
  {
   "cell_type": "markdown",
   "id": "4132b5e7",
   "metadata": {
    "papermill": {
     "duration": 0.012118,
     "end_time": "2023-10-30T18:05:14.322935",
     "exception": false,
     "start_time": "2023-10-30T18:05:14.310817",
     "status": "completed"
    },
    "tags": []
   },
   "source": [
    "# HPO Algorithm 1: Grid Search\n",
    "\n",
    "Search all the given hyper-parameter configurations\n",
    "\n",
    "**Advantages**:\n",
    "\n",
    "* Simple implementation.\n",
    "\n",
    "**Disadvantages**:\n",
    "\n",
    "* Time-consuming,\n",
    "* Only efficient with categorical HPs."
   ]
  },
  {
   "cell_type": "code",
   "execution_count": 11,
   "id": "ea210b65",
   "metadata": {
    "execution": {
     "iopub.execute_input": "2023-10-30T18:05:14.349079Z",
     "iopub.status.busy": "2023-10-30T18:05:14.348050Z",
     "iopub.status.idle": "2023-10-30T18:05:20.933179Z",
     "shell.execute_reply": "2023-10-30T18:05:20.931873Z"
    },
    "papermill": {
     "duration": 6.601149,
     "end_time": "2023-10-30T18:05:20.935800",
     "exception": false,
     "start_time": "2023-10-30T18:05:14.334651",
     "status": "completed"
    },
    "tags": []
   },
   "outputs": [
    {
     "name": "stdout",
     "output_type": "stream",
     "text": [
      "{'criterion': 'gini', 'max_depth': 15, 'n_estimators': 30}\n",
      "Accuracy:0.9360044518642182\n"
     ]
    }
   ],
   "source": [
    "#Random Forest\n",
    "from sklearn.model_selection import GridSearchCV\n",
    "# Define the hyperparameter configuration space\n",
    "rf_params = {\n",
    "    'n_estimators': [10, 20, 30],\n",
    "    #'max_features': ['sqrt',0.5],\n",
    "    'max_depth': [15,20,30,50],\n",
    "    #'min_samples_leaf': [1,2,4,8],\n",
    "    #\"bootstrap\":[True,False],\n",
    "    \"criterion\":['gini','entropy']\n",
    "}\n",
    "clf = RandomForestClassifier(random_state=0)\n",
    "grid = GridSearchCV(clf, rf_params, cv=3, scoring='accuracy')\n",
    "grid.fit(X, y)\n",
    "print(grid.best_params_)\n",
    "print(\"Accuracy:\"+ str(grid.best_score_))"
   ]
  },
  {
   "cell_type": "code",
   "execution_count": 12,
   "id": "09a7a763",
   "metadata": {
    "execution": {
     "iopub.execute_input": "2023-10-30T18:05:20.960885Z",
     "iopub.status.busy": "2023-10-30T18:05:20.960390Z",
     "iopub.status.idle": "2023-10-30T18:05:22.932146Z",
     "shell.execute_reply": "2023-10-30T18:05:22.930899Z"
    },
    "papermill": {
     "duration": 1.987029,
     "end_time": "2023-10-30T18:05:22.934572",
     "exception": false,
     "start_time": "2023-10-30T18:05:20.947543",
     "status": "completed"
    },
    "tags": []
   },
   "outputs": [
    {
     "name": "stdout",
     "output_type": "stream",
     "text": [
      "{'C': 10, 'kernel': 'rbf'}\n",
      "Accuracy:0.9738452977184195\n"
     ]
    }
   ],
   "source": [
    "#SVM\n",
    "from sklearn.model_selection import GridSearchCV\n",
    "rf_params = {\n",
    "    'C': [1,10, 100],\n",
    "    \"kernel\":['linear','poly','rbf','sigmoid']\n",
    "}\n",
    "clf = SVC(gamma='scale')\n",
    "grid = GridSearchCV(clf, rf_params, cv=3, scoring='accuracy')\n",
    "grid.fit(X, y)\n",
    "print(grid.best_params_)\n",
    "print(\"Accuracy:\"+ str(grid.best_score_))"
   ]
  },
  {
   "cell_type": "code",
   "execution_count": 13,
   "id": "53cb1d4e",
   "metadata": {
    "execution": {
     "iopub.execute_input": "2023-10-30T18:05:22.961301Z",
     "iopub.status.busy": "2023-10-30T18:05:22.960463Z",
     "iopub.status.idle": "2023-10-30T18:05:23.815008Z",
     "shell.execute_reply": "2023-10-30T18:05:23.813910Z"
    },
    "papermill": {
     "duration": 0.870283,
     "end_time": "2023-10-30T18:05:23.817457",
     "exception": false,
     "start_time": "2023-10-30T18:05:22.947174",
     "status": "completed"
    },
    "tags": []
   },
   "outputs": [
    {
     "name": "stdout",
     "output_type": "stream",
     "text": [
      "{'n_neighbors': 3}\n",
      "Accuracy:0.9682804674457429\n"
     ]
    }
   ],
   "source": [
    "#KNN\n",
    "from sklearn.model_selection import GridSearchCV\n",
    "rf_params = {\n",
    "    'n_neighbors': [2, 3, 5,10,15,20],\n",
    "}\n",
    "clf = KNeighborsClassifier()\n",
    "grid = GridSearchCV(clf, rf_params, cv=3, scoring='accuracy')\n",
    "grid.fit(X, y)\n",
    "print(grid.best_params_)\n",
    "print(\"Accuracy:\"+ str(grid.best_score_))"
   ]
  },
  {
   "cell_type": "code",
   "execution_count": 14,
   "id": "82d10ae8",
   "metadata": {
    "execution": {
     "iopub.execute_input": "2023-10-30T18:05:23.844195Z",
     "iopub.status.busy": "2023-10-30T18:05:23.843026Z",
     "iopub.status.idle": "2023-10-30T18:05:23.850681Z",
     "shell.execute_reply": "2023-10-30T18:05:23.849584Z"
    },
    "papermill": {
     "duration": 0.023382,
     "end_time": "2023-10-30T18:05:23.852963",
     "exception": false,
     "start_time": "2023-10-30T18:05:23.829581",
     "status": "completed"
    },
    "tags": []
   },
   "outputs": [
    {
     "data": {
      "text/plain": [
       "'\\n#ANN\\nfrom sklearn.model_selection import GridSearchCV\\nrf_params = {\\n    \\'optimizer\\': [\\'adam\\',\\'rmsprop\\',\\'sgd\\'],\\n    \\'activation\\': [\\'relu\\',\\'tanh\\'],\\n    \\'batch_size\\': [16,32],\\n    \\'neurons\\':[16,32],\\n    \\'epochs\\':[20,50],\\n    \\'patience\\':[2,5]\\n}\\nclf = KerasClassifier(build_fn=ANN, verbose=0)\\ngrid = GridSearchCV(clf, rf_params, cv=3,scoring=\\'accuracy\\')\\ngrid.fit(X, y)\\nprint(grid.best_params_)\\nprint(\"Accuracy:\"+ str(grid.best_score_))\\n'"
      ]
     },
     "execution_count": 14,
     "metadata": {},
     "output_type": "execute_result"
    }
   ],
   "source": [
    "\"\"\"\n",
    "#ANN\n",
    "from sklearn.model_selection import GridSearchCV\n",
    "rf_params = {\n",
    "    'optimizer': ['adam','rmsprop','sgd'],\n",
    "    'activation': ['relu','tanh'],\n",
    "    'batch_size': [16,32],\n",
    "    'neurons':[16,32],\n",
    "    'epochs':[20,50],\n",
    "    'patience':[2,5]\n",
    "}\n",
    "clf = KerasClassifier(build_fn=ANN, verbose=0)\n",
    "grid = GridSearchCV(clf, rf_params, cv=3,scoring='accuracy')\n",
    "grid.fit(X, y)\n",
    "print(grid.best_params_)\n",
    "print(\"Accuracy:\"+ str(grid.best_score_))\n",
    "\"\"\"\n",
    "#resuls as {'activation': 'relu', 'batch_size': 16, 'epochs': 50, 'neurons': 32, 'optimizer': 'adam', 'patience': 5}\n",
    "#Accuracy:0.9994435169727324"
   ]
  },
  {
   "cell_type": "markdown",
   "id": "d982700e",
   "metadata": {
    "papermill": {
     "duration": 0.01138,
     "end_time": "2023-10-30T18:05:23.876179",
     "exception": false,
     "start_time": "2023-10-30T18:05:23.864799",
     "status": "completed"
    },
    "tags": []
   },
   "source": [
    "# HPO Algorithm 2: Random Search\n",
    "\n",
    "Randomly search hyper-parameter combinations in the search space\n",
    "\n",
    "**Advantages**:\n",
    "\n",
    "* More efficient than GS.\n",
    "* Enable parallelization.\n",
    "\n",
    "**Disadvantages**:\n",
    "\n",
    "* Not consider previous results.\n",
    "* Not efficient with conditional HPs."
   ]
  },
  {
   "cell_type": "code",
   "execution_count": 15,
   "id": "4a1f9161",
   "metadata": {
    "execution": {
     "iopub.execute_input": "2023-10-30T18:05:23.903016Z",
     "iopub.status.busy": "2023-10-30T18:05:23.901876Z",
     "iopub.status.idle": "2023-10-30T18:05:49.191328Z",
     "shell.execute_reply": "2023-10-30T18:05:49.190158Z"
    },
    "papermill": {
     "duration": 25.306105,
     "end_time": "2023-10-30T18:05:49.193876",
     "exception": false,
     "start_time": "2023-10-30T18:05:23.887771",
     "status": "completed"
    },
    "tags": []
   },
   "outputs": [
    {
     "name": "stdout",
     "output_type": "stream",
     "text": [
      "{'criterion': 'gini', 'max_depth': 43, 'max_features': 25, 'min_samples_leaf': 1, 'min_samples_split': 3, 'n_estimators': 89}\n",
      "Accuracy:0.9287701725097385\n"
     ]
    }
   ],
   "source": [
    "#Random Forest\n",
    "from scipy.stats import randint as sp_randint\n",
    "from random import randrange as sp_randrange\n",
    "from sklearn.model_selection import RandomizedSearchCV\n",
    "# Define the hyperparameter configuration space\n",
    "rf_params = {\n",
    "    'n_estimators': sp_randint(10,100),\n",
    "    \"max_features\":sp_randint(1,64),\n",
    "    'max_depth': sp_randint(5,50),\n",
    "    \"min_samples_split\":sp_randint(2,11),\n",
    "    \"min_samples_leaf\":sp_randint(1,11),\n",
    "    \"criterion\":['gini','entropy']\n",
    "}\n",
    "n_iter_search=20 #number of iterations is set to 20, you can increase this number if time permits\n",
    "clf = RandomForestClassifier(random_state=0)\n",
    "Random = RandomizedSearchCV(clf, param_distributions=rf_params,n_iter=n_iter_search,cv=3,scoring='accuracy')\n",
    "Random.fit(X, y)\n",
    "print(Random.best_params_)\n",
    "print(\"Accuracy:\"+ str(Random.best_score_))"
   ]
  },
  {
   "cell_type": "code",
   "execution_count": 16,
   "id": "ce39583a",
   "metadata": {
    "execution": {
     "iopub.execute_input": "2023-10-30T18:05:49.220618Z",
     "iopub.status.busy": "2023-10-30T18:05:49.219885Z",
     "iopub.status.idle": "2023-10-30T18:05:52.218458Z",
     "shell.execute_reply": "2023-10-30T18:05:52.217408Z"
    },
    "papermill": {
     "duration": 3.01467,
     "end_time": "2023-10-30T18:05:52.221092",
     "exception": false,
     "start_time": "2023-10-30T18:05:49.206422",
     "status": "completed"
    },
    "tags": []
   },
   "outputs": [
    {
     "name": "stdout",
     "output_type": "stream",
     "text": [
      "{'C': 28.516397910409246, 'kernel': 'rbf'}\n",
      "Accuracy:0.9738452977184195\n"
     ]
    }
   ],
   "source": [
    "#SVM\n",
    "from scipy.stats import randint as sp_randint\n",
    "from sklearn.model_selection import RandomizedSearchCV\n",
    "rf_params = {\n",
    "    'C': stats.uniform(0,50),\n",
    "    \"kernel\":['linear','poly','rbf','sigmoid']\n",
    "}\n",
    "n_iter_search=20\n",
    "clf = SVC(gamma='scale')\n",
    "Random = RandomizedSearchCV(clf, param_distributions=rf_params,n_iter=n_iter_search,cv=3,scoring='accuracy')\n",
    "Random.fit(X, y)\n",
    "print(Random.best_params_)\n",
    "print(\"Accuracy:\"+ str(Random.best_score_))"
   ]
  },
  {
   "cell_type": "code",
   "execution_count": 17,
   "id": "5c807899",
   "metadata": {
    "execution": {
     "iopub.execute_input": "2023-10-30T18:05:52.246619Z",
     "iopub.status.busy": "2023-10-30T18:05:52.246228Z",
     "iopub.status.idle": "2023-10-30T18:05:53.632231Z",
     "shell.execute_reply": "2023-10-30T18:05:53.631063Z"
    },
    "papermill": {
     "duration": 1.401871,
     "end_time": "2023-10-30T18:05:53.634547",
     "exception": false,
     "start_time": "2023-10-30T18:05:52.232676",
     "status": "completed"
    },
    "tags": []
   },
   "outputs": [
    {
     "name": "stdout",
     "output_type": "stream",
     "text": [
      "{'n_neighbors': 3}\n",
      "Accuracy:0.9682804674457429\n"
     ]
    }
   ],
   "source": [
    "#KNN\n",
    "from scipy.stats import randint as sp_randint\n",
    "from sklearn.model_selection import RandomizedSearchCV\n",
    "rf_params = {\n",
    "    'n_neighbors': range(1,20),\n",
    "}\n",
    "n_iter_search=10\n",
    "clf = KNeighborsClassifier()\n",
    "Random = RandomizedSearchCV(clf, param_distributions=rf_params,n_iter=n_iter_search,cv=3,scoring='accuracy')\n",
    "Random.fit(X, y)\n",
    "print(Random.best_params_)\n",
    "print(\"Accuracy:\"+ str(Random.best_score_))\n"
   ]
  },
  {
   "cell_type": "code",
   "execution_count": 18,
   "id": "20b444af",
   "metadata": {
    "execution": {
     "iopub.execute_input": "2023-10-30T18:05:53.660749Z",
     "iopub.status.busy": "2023-10-30T18:05:53.660325Z",
     "iopub.status.idle": "2023-10-30T18:05:53.667233Z",
     "shell.execute_reply": "2023-10-30T18:05:53.666484Z"
    },
    "papermill": {
     "duration": 0.022224,
     "end_time": "2023-10-30T18:05:53.669001",
     "exception": false,
     "start_time": "2023-10-30T18:05:53.646777",
     "status": "completed"
    },
    "tags": []
   },
   "outputs": [
    {
     "data": {
      "text/plain": [
       "'\\n#ANN\\nfrom scipy.stats import randint as sp_randint\\nfrom random import randrange as sp_randrange\\nfrom sklearn.model_selection import RandomizedSearchCV\\nrf_params = {\\n    \\'optimizer\\': [\\'adam\\',\\'rmsprop\\',\\'sgd\\'],\\n    \\'activation\\': [\\'relu\\',\\'tanh\\'],\\n    \\'batch_size\\': [16,32,64],\\n    \\'neurons\\':sp_randint(10,100),\\n    \\'epochs\\':[20,50],\\n    #\\'epochs\\':[20,50,100,200],\\n    \\'patience\\':sp_randint(3,20)\\n}\\nn_iter_search=10\\nclf = KerasClassifier(build_fn=ANN, verbose=0)\\nRandom = RandomizedSearchCV(clf, param_distributions=rf_params,n_iter=n_iter_search,cv=3,scoring=\\'accuracy\\')\\nRandom.fit(X, y)\\nprint(Random.best_params_)\\nprint(\"Accuracy:\"+ str(Random.best_score_))\\n'"
      ]
     },
     "execution_count": 18,
     "metadata": {},
     "output_type": "execute_result"
    }
   ],
   "source": [
    "\"\"\"\n",
    "#ANN\n",
    "from scipy.stats import randint as sp_randint\n",
    "from random import randrange as sp_randrange\n",
    "from sklearn.model_selection import RandomizedSearchCV\n",
    "rf_params = {\n",
    "    'optimizer': ['adam','rmsprop','sgd'],\n",
    "    'activation': ['relu','tanh'],\n",
    "    'batch_size': [16,32,64],\n",
    "    'neurons':sp_randint(10,100),\n",
    "    'epochs':[20,50],\n",
    "    #'epochs':[20,50,100,200],\n",
    "    'patience':sp_randint(3,20)\n",
    "}\n",
    "n_iter_search=10\n",
    "clf = KerasClassifier(build_fn=ANN, verbose=0)\n",
    "Random = RandomizedSearchCV(clf, param_distributions=rf_params,n_iter=n_iter_search,cv=3,scoring='accuracy')\n",
    "Random.fit(X, y)\n",
    "print(Random.best_params_)\n",
    "print(\"Accuracy:\"+ str(Random.best_score_))\n",
    "\"\"\"\n",
    "#results as {'activation': 'relu', 'epochs': 20, 'optimizer': 'adam', 'patience': 8, 'batch_size': 16, 'neurons': 89}\n",
    "#Accuracy:1.0"
   ]
  },
  {
   "cell_type": "markdown",
   "id": "4626fe99",
   "metadata": {
    "papermill": {
     "duration": 0.012088,
     "end_time": "2023-10-30T18:05:53.693746",
     "exception": false,
     "start_time": "2023-10-30T18:05:53.681658",
     "status": "completed"
    },
    "tags": []
   },
   "source": [
    "# HPO Algorithm 3: BO-GP\n",
    "\n",
    "Bayesian Optimization with Gaussian Process (BO-GP)\n",
    "\n",
    "**Advantages**:\n",
    "\n",
    "* Fast convergence speed for continuous HPs.\n",
    "\n",
    "**Disadvantages**:\n",
    "\n",
    "* Poor capacity for parallelization.\n",
    "* Not efficient with conditional HPs.\n",
    "\n",
    "# Using skopt.BayesSearchCV"
   ]
  },
  {
   "cell_type": "code",
   "execution_count": 19,
   "id": "077e2c64",
   "metadata": {
    "execution": {
     "iopub.execute_input": "2023-10-30T18:05:53.784224Z",
     "iopub.status.busy": "2023-10-30T18:05:53.783574Z",
     "iopub.status.idle": "2023-10-30T18:06:34.625885Z",
     "shell.execute_reply": "2023-10-30T18:06:34.624390Z"
    },
    "papermill": {
     "duration": 40.871715,
     "end_time": "2023-10-30T18:06:34.640483",
     "exception": false,
     "start_time": "2023-10-30T18:05:53.768768",
     "status": "completed"
    },
    "tags": []
   },
   "outputs": [
    {
     "name": "stdout",
     "output_type": "stream",
     "text": [
      "OrderedDict([('criterion', 'gini'), ('max_depth', 14), ('max_features', 7), ('min_samples_leaf', 4), ('min_samples_split', 8), ('n_estimators', 74)])\n",
      "Accuracy:0.9321090706733445\n"
     ]
    }
   ],
   "source": [
    "#Random Forest\n",
    "from skopt import Optimizer\n",
    "from skopt import BayesSearchCV \n",
    "from skopt.space import Real, Categorical, Integer\n",
    "# Define the hyperparameter configuration space\n",
    "rf_params = {\n",
    "    'n_estimators': Integer(10,100),\n",
    "    \"max_features\":Integer(1,64),\n",
    "    'max_depth': Integer(5,50),\n",
    "    \"min_samples_split\":Integer(2,11),\n",
    "    \"min_samples_leaf\":Integer(1,11),\n",
    "    \"criterion\":['gini','entropy']\n",
    "}\n",
    "clf = RandomForestClassifier(random_state=0)\n",
    "Bayes = BayesSearchCV(clf, rf_params,cv=3,n_iter=20, n_jobs=-1,scoring='accuracy')\n",
    "#number of iterations is set to 20, you can increase this number if time permits\n",
    "Bayes.fit(X, y)\n",
    "print(Bayes.best_params_)\n",
    "bclf = Bayes.best_estimator_\n",
    "print(\"Accuracy:\"+ str(Bayes.best_score_))"
   ]
  },
  {
   "cell_type": "code",
   "execution_count": 20,
   "id": "be178800",
   "metadata": {
    "execution": {
     "iopub.execute_input": "2023-10-30T18:06:34.666195Z",
     "iopub.status.busy": "2023-10-30T18:06:34.665825Z",
     "iopub.status.idle": "2023-10-30T18:06:56.570961Z",
     "shell.execute_reply": "2023-10-30T18:06:56.569879Z"
    },
    "papermill": {
     "duration": 21.920873,
     "end_time": "2023-10-30T18:06:56.573131",
     "exception": false,
     "start_time": "2023-10-30T18:06:34.652258",
     "status": "completed"
    },
    "tags": []
   },
   "outputs": [
    {
     "name": "stdout",
     "output_type": "stream",
     "text": [
      "OrderedDict([('C', 3.1818747392961164), ('kernel', 'rbf')])\n",
      "Accuracy:0.9744017807456872\n"
     ]
    }
   ],
   "source": [
    "#SVM\n",
    "from skopt import Optimizer\n",
    "from skopt import BayesSearchCV \n",
    "from skopt.space import Real, Categorical, Integer\n",
    "rf_params = {\n",
    "    'C': Real(0.01,50),\n",
    "    \"kernel\":['linear','poly','rbf','sigmoid']\n",
    "}\n",
    "clf = SVC(gamma='scale')\n",
    "Bayes = BayesSearchCV(clf, rf_params,cv=3,n_iter=20, n_jobs=-1,scoring='accuracy')\n",
    "Bayes.fit(X, y)\n",
    "print(Bayes.best_params_)\n",
    "bclf = Bayes.best_estimator_\n",
    "print(\"Accuracy:\"+ str(Bayes.best_score_))"
   ]
  },
  {
   "cell_type": "code",
   "execution_count": 21,
   "id": "ab0a2643",
   "metadata": {
    "execution": {
     "iopub.execute_input": "2023-10-30T18:06:56.599545Z",
     "iopub.status.busy": "2023-10-30T18:06:56.598734Z",
     "iopub.status.idle": "2023-10-30T18:06:58.124870Z",
     "shell.execute_reply": "2023-10-30T18:06:58.123868Z"
    },
    "papermill": {
     "duration": 1.543354,
     "end_time": "2023-10-30T18:06:58.128617",
     "exception": false,
     "start_time": "2023-10-30T18:06:56.585263",
     "status": "completed"
    },
    "tags": []
   },
   "outputs": [
    {
     "name": "stdout",
     "output_type": "stream",
     "text": [
      "OrderedDict([('n_neighbors', 4)])\n",
      "Accuracy:0.9638286032276016\n"
     ]
    }
   ],
   "source": [
    "#KNN\n",
    "from skopt import Optimizer\n",
    "from skopt import BayesSearchCV \n",
    "from skopt.space import Real, Categorical, Integer\n",
    "rf_params = {\n",
    "    'n_neighbors': Integer(1,20),\n",
    "}\n",
    "clf = KNeighborsClassifier()\n",
    "Bayes = BayesSearchCV(clf, rf_params,cv=3,n_iter=10, n_jobs=-1,scoring='accuracy')\n",
    "Bayes.fit(X, y)\n",
    "print(Bayes.best_params_)\n",
    "bclf = Bayes.best_estimator_\n",
    "print(\"Accuracy:\"+ str(Bayes.best_score_))"
   ]
  },
  {
   "cell_type": "code",
   "execution_count": 22,
   "id": "17404081",
   "metadata": {
    "execution": {
     "iopub.execute_input": "2023-10-30T18:06:58.182447Z",
     "iopub.status.busy": "2023-10-30T18:06:58.181821Z",
     "iopub.status.idle": "2023-10-30T18:06:58.192137Z",
     "shell.execute_reply": "2023-10-30T18:06:58.191162Z"
    },
    "papermill": {
     "duration": 0.041643,
     "end_time": "2023-10-30T18:06:58.195354",
     "exception": false,
     "start_time": "2023-10-30T18:06:58.153711",
     "status": "completed"
    },
    "tags": []
   },
   "outputs": [
    {
     "data": {
      "text/plain": [
       "'\\n#ANN\\nfrom skopt import Optimizer\\nfrom skopt import BayesSearchCV \\nfrom skopt.space import Real, Categorical, Integer\\nrf_params = {\\n    \\'optimizer\\': [\\'adam\\',\\'rmsprop\\',\\'sgd\\'],\\n    \\'activation\\': [\\'relu\\',\\'tanh\\'],\\n    \\'batch_size\\': [16,32,64],\\n    \\'neurons\\':Integer(10,100),\\n    \\'epochs\\':[20,50],\\n    #\\'epochs\\':[20,50,100,200],\\n    \\'patience\\':Integer(3,20)\\n}\\nclf = KerasClassifier(build_fn=ANN, verbose=0)\\nBayes = BayesSearchCV(clf, rf_params,cv=3,n_iter=10, scoring=\\'accuracy\\')\\nBayes.fit(X, y)\\nprint(Bayes.best_params_)\\nprint(\"Accuracy:\"+ str(Bayes.best_score_))\\n'"
      ]
     },
     "execution_count": 22,
     "metadata": {},
     "output_type": "execute_result"
    }
   ],
   "source": [
    "\"\"\"\n",
    "#ANN\n",
    "from skopt import Optimizer\n",
    "from skopt import BayesSearchCV \n",
    "from skopt.space import Real, Categorical, Integer\n",
    "rf_params = {\n",
    "    'optimizer': ['adam','rmsprop','sgd'],\n",
    "    'activation': ['relu','tanh'],\n",
    "    'batch_size': [16,32,64],\n",
    "    'neurons':Integer(10,100),\n",
    "    'epochs':[20,50],\n",
    "    #'epochs':[20,50,100,200],\n",
    "    'patience':Integer(3,20)\n",
    "}\n",
    "clf = KerasClassifier(build_fn=ANN, verbose=0)\n",
    "Bayes = BayesSearchCV(clf, rf_params,cv=3,n_iter=10, scoring='accuracy')\n",
    "Bayes.fit(X, y)\n",
    "print(Bayes.best_params_)\n",
    "print(\"Accuracy:\"+ str(Bayes.best_score_))\n",
    "\"\"\"\n",
    "#results as {'activation': 'tanh', 'epochs': 47, 'optimizer': 'adam', 'patience': 10, 'batch_size': 16, 'neurons': 54}\n",
    "#Accuracy:1.0"
   ]
  },
  {
   "cell_type": "markdown",
   "id": "108e874a",
   "metadata": {
    "papermill": {
     "duration": 0.012107,
     "end_time": "2023-10-30T18:06:58.231899",
     "exception": false,
     "start_time": "2023-10-30T18:06:58.219792",
     "status": "completed"
    },
    "tags": []
   },
   "source": [
    "# Using skopt.gp_minimize"
   ]
  },
  {
   "cell_type": "code",
   "execution_count": 23,
   "id": "2dab5c41",
   "metadata": {
    "execution": {
     "iopub.execute_input": "2023-10-30T18:06:58.258729Z",
     "iopub.status.busy": "2023-10-30T18:06:58.258323Z",
     "iopub.status.idle": "2023-10-30T18:07:16.816062Z",
     "shell.execute_reply": "2023-10-30T18:07:16.814732Z"
    },
    "papermill": {
     "duration": 18.577674,
     "end_time": "2023-10-30T18:07:16.821955",
     "exception": false,
     "start_time": "2023-10-30T18:06:58.244281",
     "status": "completed"
    },
    "tags": []
   },
   "outputs": [
    {
     "name": "stderr",
     "output_type": "stream",
     "text": [
      "/opt/conda/lib/python3.10/site-packages/skopt/optimizer/optimizer.py:449: UserWarning: The objective has been evaluated at this point before.\n",
      "  warnings.warn(\"The objective has been evaluated \"\n"
     ]
    },
    {
     "name": "stdout",
     "output_type": "stream",
     "text": [
      "Accuracy:0.9416\n",
      "[100, 50, 12, 2, 1, 'gini']\n"
     ]
    }
   ],
   "source": [
    "#Random Forest\n",
    "from skopt.space import Real, Integer\n",
    "from skopt.utils import use_named_args\n",
    "\n",
    "reg = RandomForestClassifier()\n",
    "# Define the hyperparameter configuration space\n",
    "space  = [Integer(10, 100, name='n_estimators'),\n",
    "            Integer(5, 50, name='max_depth'),\n",
    "          Integer(1, 64, name='max_features'),\n",
    "          Integer(2, 11, name='min_samples_split'),\n",
    "          Integer(1, 11, name='min_samples_leaf'),\n",
    "         Categorical(['gini', 'entropy'], name='criterion'),]\n",
    "# Define the objective function\n",
    "@use_named_args(space)\n",
    "def objective(**params):\n",
    "    reg.set_params(**params)\n",
    "\n",
    "    return -np.mean(cross_val_score(reg, X, y, cv=3, n_jobs=-1,\n",
    "                                    scoring=\"accuracy\"))\n",
    "from skopt import gp_minimize\n",
    "res_gp = gp_minimize(objective, space, n_calls=20, random_state=0)\n",
    "print(\"Accuracy:%.4f\" % -res_gp.fun)\n",
    "print(res_gp.x)"
   ]
  },
  {
   "cell_type": "code",
   "execution_count": 24,
   "id": "f43ef286",
   "metadata": {
    "execution": {
     "iopub.execute_input": "2023-10-30T18:07:16.882387Z",
     "iopub.status.busy": "2023-10-30T18:07:16.881284Z",
     "iopub.status.idle": "2023-10-30T18:07:26.340809Z",
     "shell.execute_reply": "2023-10-30T18:07:26.339702Z"
    },
    "papermill": {
     "duration": 9.492718,
     "end_time": "2023-10-30T18:07:26.343679",
     "exception": false,
     "start_time": "2023-10-30T18:07:16.850961",
     "status": "completed"
    },
    "tags": []
   },
   "outputs": [
    {
     "name": "stdout",
     "output_type": "stream",
     "text": [
      "Accuracy:0.9738\n",
      "[16.876434059259253, 'rbf']\n"
     ]
    }
   ],
   "source": [
    "#SVM\n",
    "from skopt.space import Real, Integer\n",
    "from skopt.utils import use_named_args\n",
    "\n",
    "reg = SVC(gamma='scale')\n",
    "space  = [Real(0.01, 50, name='C'),\n",
    "          Categorical(['linear','poly','rbf','sigmoid'], name='kernel'),\n",
    "         ]\n",
    "\n",
    "@use_named_args(space)\n",
    "def objective(**params):\n",
    "    reg.set_params(**params)\n",
    "\n",
    "    return -np.mean(cross_val_score(reg, X, y, cv=3, n_jobs=-1,\n",
    "                                    scoring=\"accuracy\"))\n",
    "from skopt import gp_minimize\n",
    "res_gp = gp_minimize(objective, space, n_calls=20, random_state=0)\n",
    "print(\"Accuracy:%.4f\" % -res_gp.fun)\n",
    "print(res_gp.x)"
   ]
  },
  {
   "cell_type": "code",
   "execution_count": 25,
   "id": "04daf752",
   "metadata": {
    "execution": {
     "iopub.execute_input": "2023-10-30T18:07:26.372958Z",
     "iopub.status.busy": "2023-10-30T18:07:26.372569Z",
     "iopub.status.idle": "2023-10-30T18:07:27.584919Z",
     "shell.execute_reply": "2023-10-30T18:07:27.583371Z"
    },
    "papermill": {
     "duration": 1.231695,
     "end_time": "2023-10-30T18:07:27.589383",
     "exception": false,
     "start_time": "2023-10-30T18:07:26.357688",
     "status": "completed"
    },
    "tags": []
   },
   "outputs": [
    {
     "name": "stdout",
     "output_type": "stream",
     "text": [
      "Accuracy:0.9622\n",
      "[2]\n"
     ]
    }
   ],
   "source": [
    "#KNN\n",
    "from skopt.space import Real, Integer\n",
    "from skopt.utils import use_named_args\n",
    "\n",
    "reg = KNeighborsClassifier()\n",
    "space  = [Integer(1, 20, name='n_neighbors')]\n",
    "\n",
    "@use_named_args(space)\n",
    "def objective(**params):\n",
    "    reg.set_params(**params)\n",
    "\n",
    "    return -np.mean(cross_val_score(reg, X, y, cv=3, n_jobs=-1,\n",
    "                                    scoring=\"accuracy\"))\n",
    "from skopt import gp_minimize\n",
    "res_gp = gp_minimize(objective, space, n_calls=10, random_state=0)\n",
    "print(\"Accuracy:%.4f\" % -res_gp.fun)\n",
    "print(res_gp.x)"
   ]
  },
  {
   "cell_type": "code",
   "execution_count": null,
   "id": "da4f3f5c",
   "metadata": {
    "papermill": {
     "duration": 0.029827,
     "end_time": "2023-10-30T18:07:27.649291",
     "exception": false,
     "start_time": "2023-10-30T18:07:27.619464",
     "status": "completed"
    },
    "tags": []
   },
   "outputs": [],
   "source": []
  }
 ],
 "metadata": {
  "kernelspec": {
   "display_name": "Python 3",
   "language": "python",
   "name": "python3"
  },
  "language_info": {
   "codemirror_mode": {
    "name": "ipython",
    "version": 3
   },
   "file_extension": ".py",
   "mimetype": "text/x-python",
   "name": "python",
   "nbconvert_exporter": "python",
   "pygments_lexer": "ipython3",
   "version": "3.10.12"
  },
  "papermill": {
   "default_parameters": {},
   "duration": 161.241446,
   "end_time": "2023-10-30T18:07:30.300676",
   "environment_variables": {},
   "exception": null,
   "input_path": "__notebook__.ipynb",
   "output_path": "__notebook__.ipynb",
   "parameters": {},
   "start_time": "2023-10-30T18:04:49.059230",
   "version": "2.4.0"
  }
 },
 "nbformat": 4,
 "nbformat_minor": 5
}
